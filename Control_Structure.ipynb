{
  "nbformat": 4,
  "nbformat_minor": 0,
  "metadata": {
    "colab": {
      "name": "Control Structure.ipynb",
      "provenance": [],
      "collapsed_sections": [],
      "authorship_tag": "ABX9TyM4dW7iqDQghERb92DL43uv",
      "include_colab_link": true
    },
    "kernelspec": {
      "name": "python3",
      "display_name": "Python 3"
    },
    "language_info": {
      "name": "python"
    }
  },
  "cells": [
    {
      "cell_type": "markdown",
      "metadata": {
        "id": "view-in-github",
        "colab_type": "text"
      },
      "source": [
        "<a href=\"https://colab.research.google.com/github/Grate-Law/CPEN-21A-ECE-2-3/blob/main/Control_Structure.ipynb\" target=\"_parent\"><img src=\"https://colab.research.google.com/assets/colab-badge.svg\" alt=\"Open In Colab\"/></a>"
      ]
    },
    {
      "cell_type": "markdown",
      "metadata": {
        "id": "HQw8Vrgi0PEW"
      },
      "source": [
        "###If Statement"
      ]
    },
    {
      "cell_type": "code",
      "metadata": {
        "colab": {
          "base_uri": "https://localhost:8080/"
        },
        "id": "hqUTAOE40TPz",
        "outputId": "3d8249a0-9f7f-422a-a383-c148a80266c5"
      },
      "source": [
        "a = 12\n",
        "b = 100\n",
        "if a<b:\n",
        " print(\"a is less than b\")"
      ],
      "execution_count": 12,
      "outputs": [
        {
          "output_type": "stream",
          "name": "stdout",
          "text": [
            "a is less than b\n"
          ]
        }
      ]
    },
    {
      "cell_type": "markdown",
      "metadata": {
        "id": "a4mD1rnO03gc"
      },
      "source": [
        "###Elif Statement"
      ]
    },
    {
      "cell_type": "code",
      "metadata": {
        "id": "VpsG4gRm08CN"
      },
      "source": [
        ""
      ],
      "execution_count": null,
      "outputs": []
    },
    {
      "cell_type": "markdown",
      "metadata": {
        "id": "EmMTFl3F0-KD"
      },
      "source": [
        "###Else Statement"
      ]
    },
    {
      "cell_type": "code",
      "metadata": {
        "id": "Zpr1rnGn1B4b"
      },
      "source": [
        ""
      ],
      "execution_count": null,
      "outputs": []
    },
    {
      "cell_type": "markdown",
      "metadata": {
        "id": "1_L-3Os41FOz"
      },
      "source": [
        "###Short Hand Statement"
      ]
    },
    {
      "cell_type": "code",
      "metadata": {
        "colab": {
          "base_uri": "https://localhost:8080/"
        },
        "id": "K5CzDPv_1Ho4",
        "outputId": "b47c5284-341d-4967-adca-0194884a9410"
      },
      "source": [
        "a=75\n",
        "b=32\n",
        "if a>b: print(\"a is greater than b\")"
      ],
      "execution_count": 14,
      "outputs": [
        {
          "output_type": "stream",
          "name": "stdout",
          "text": [
            "a is greater than b\n"
          ]
        }
      ]
    },
    {
      "cell_type": "markdown",
      "metadata": {
        "id": "xdKLXNBu1UNO"
      },
      "source": [
        "###Short Hand If.. Else Statement"
      ]
    },
    {
      "cell_type": "code",
      "metadata": {
        "colab": {
          "base_uri": "https://localhost:8080/"
        },
        "id": "ECK8YkzP1dnm",
        "outputId": "99756fc3-7e03-4df8-f643-269e5fa0e4d3"
      },
      "source": [
        "print(\"a is greater than b\") if a>b else print(\"b is greater than a\")"
      ],
      "execution_count": 15,
      "outputs": [
        {
          "output_type": "stream",
          "name": "stdout",
          "text": [
            "a is greater than b\n"
          ]
        }
      ]
    },
    {
      "cell_type": "markdown",
      "metadata": {
        "id": "vF8YX6fB2dnO"
      },
      "source": [
        "###And Logic Condition"
      ]
    },
    {
      "cell_type": "code",
      "metadata": {
        "colab": {
          "base_uri": "https://localhost:8080/"
        },
        "id": "vNo-8zMJ2gUf",
        "outputId": "0beca390-9215-41ca-8638-8282a94d031c"
      },
      "source": [
        "a=200\n",
        "b=33\n",
        "c=500\n",
        "if a>b and c>a:\n",
        "  print(\"both conditions are true\")\n",
        "else:\n",
        " print(\"atleast one condition is true\")"
      ],
      "execution_count": 18,
      "outputs": [
        {
          "output_type": "stream",
          "name": "stdout",
          "text": [
            "both conditions are true\n"
          ]
        }
      ]
    },
    {
      "cell_type": "markdown",
      "metadata": {
        "id": "exPMIVAq3OVc"
      },
      "source": [
        "###Or Logic Conditions"
      ]
    },
    {
      "cell_type": "code",
      "metadata": {
        "colab": {
          "base_uri": "https://localhost:8080/"
        },
        "id": "6kgGzXrm3QMM",
        "outputId": "b7db0538-efd1-4dcf-f895-e06a6e50b349"
      },
      "source": [
        "if a<b or c>a:\n",
        "  print(\"atleast one of the statements are true\")\n",
        "else:\n",
        "  print(\"none of the statements are true\")\n",
        "  "
      ],
      "execution_count": 19,
      "outputs": [
        {
          "output_type": "stream",
          "name": "stdout",
          "text": [
            "atleast one of the statements are true\n"
          ]
        }
      ]
    },
    {
      "cell_type": "markdown",
      "metadata": {
        "id": "arS9Oz2m3pRT"
      },
      "source": [
        "###Nested If Condition"
      ]
    },
    {
      "cell_type": "code",
      "metadata": {
        "colab": {
          "base_uri": "https://localhost:8080/"
        },
        "id": "Dc6cfNyD3tYz",
        "outputId": "d105685b-ea6d-497f-c478-a20131ba2b9d"
      },
      "source": [
        "x=21\n",
        "if x>10:\n",
        "  print(x, \" is above 10\")\n",
        "  if x>20:\n",
        "   print(\"and also above 20\")\n",
        "   if x>30:\n",
        "    print(\"and also above 30\")\n",
        "   else:\n",
        "      print(\"but not above 30\")\n",
        "  else: \n",
        "    print(\"but not above 20\")\n",
        "else:\n",
        "  print(\"is not above 10\")"
      ],
      "execution_count": 32,
      "outputs": [
        {
          "output_type": "stream",
          "name": "stdout",
          "text": [
            "21  is above 10\n",
            "and also above 20\n",
            "but not above 30\n"
          ]
        }
      ]
    },
    {
      "cell_type": "markdown",
      "metadata": {
        "id": "-Z5uOqN-5suj"
      },
      "source": [
        "###Example 1"
      ]
    },
    {
      "cell_type": "code",
      "metadata": {
        "colab": {
          "base_uri": "https://localhost:8080/"
        },
        "id": "NHKbczIq5xvN",
        "outputId": "c3c27137-0d63-4e7f-9c3b-abc4595f13ef"
      },
      "source": [
        "#Write a program that determines if the input age is qualified to vote or not. the qualifying age is 18 years old and above.\n",
        "\n",
        "#input your age below\n",
        "A=int(input(\"Enter your age.\"))\n",
        "\n",
        "if A>=18:\n",
        "  print(\"Being \", A, \"years old, you are allowed to vote. Vote Wisely!\")\n",
        "else:\n",
        "  print(\"I'm sorry but your input age, \", A, \"years old, is still not in the legal age to vote.\")"
      ],
      "execution_count": 50,
      "outputs": [
        {
          "output_type": "stream",
          "name": "stdout",
          "text": [
            "Enter your age.21\n",
            "Being  21 years old, you are allowed to vote. Vote Wisely!\n"
          ]
        }
      ]
    },
    {
      "cell_type": "markdown",
      "metadata": {
        "id": "A1KeYJS28ius"
      },
      "source": [
        "###Example 2"
      ]
    },
    {
      "cell_type": "code",
      "metadata": {
        "id": "7NA2N96Z8lat"
      },
      "source": [
        ""
      ],
      "execution_count": null,
      "outputs": []
    },
    {
      "cell_type": "markdown",
      "metadata": {
        "id": "_DnmtcMj8qIE"
      },
      "source": [
        "###Example 3"
      ]
    },
    {
      "cell_type": "code",
      "metadata": {
        "colab": {
          "base_uri": "https://localhost:8080/"
        },
        "id": "iA2ViOW08tO1",
        "outputId": "fd52659c-7502-46af-c63a-ea3524639d53"
      },
      "source": [
        "#Write a Python program that determines if the Grades are:\n",
        "#G>=75  \"passed\"\n",
        "#G==74  \"remedial\"\n",
        "#G<74   \"Failed\"\n",
        "\n",
        "G=float(input(\"Enter your grades: \"))\n",
        "if G>=75:\n",
        " print(\"Passed\")\n",
        "elif G<75 and G>74:\n",
        " print(\"remedial\")\n",
        "else:\n",
        "  print(\"Failed\")"
      ],
      "execution_count": 51,
      "outputs": [
        {
          "output_type": "stream",
          "name": "stdout",
          "text": [
            "Enter your grades: 97\n",
            "Passed\n"
          ]
        }
      ]
    }
  ]
}