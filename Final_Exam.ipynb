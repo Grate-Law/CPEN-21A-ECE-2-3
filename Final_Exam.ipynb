{
  "nbformat": 4,
  "nbformat_minor": 0,
  "metadata": {
    "colab": {
      "name": "Final Exam.ipynb",
      "provenance": [],
      "collapsed_sections": [],
      "authorship_tag": "ABX9TyN5OGFflF04fuLoxMebnZkK",
      "include_colab_link": true
    },
    "kernelspec": {
      "name": "python3",
      "display_name": "Python 3"
    },
    "language_info": {
      "name": "python"
    }
  },
  "cells": [
    {
      "cell_type": "markdown",
      "metadata": {
        "id": "view-in-github",
        "colab_type": "text"
      },
      "source": [
        "<a href=\"https://colab.research.google.com/github/Grate-Law/CPEN-21A-ECE-2-3/blob/main/Final_Exam.ipynb\" target=\"_parent\"><img src=\"https://colab.research.google.com/assets/colab-badge.svg\" alt=\"Open In Colab\"/></a>"
      ]
    },
    {
      "cell_type": "markdown",
      "source": [
        "##Problem Statement 1"
      ],
      "metadata": {
        "id": "4WthDoIRiOU_"
      }
    },
    {
      "cell_type": "code",
      "execution_count": 27,
      "metadata": {
        "colab": {
          "base_uri": "https://localhost:8080/"
        },
        "id": "aBCqGUANiIrN",
        "outputId": "24da4175-c5fa-4a75-c382-3ddfe42405ae"
      },
      "outputs": [
        {
          "output_type": "stream",
          "name": "stdout",
          "text": [
            "-5\n",
            "-4\n",
            "-3\n",
            "-2\n",
            "-1\n",
            "0\n",
            "1\n",
            "2\n",
            "3\n",
            "4\n",
            "Sum of 10 numbers less 5 than is:  -5\n"
          ]
        }
      ],
      "source": [
        "#Create a Python program that will produce an output of sum of 10 numbers less than 5 using FOR LOOP statement.\n",
        "sum = 0\n",
        "num=[-5,-4,-3,-2,-1,0,1,2,3,4]\n",
        "for x in num:\n",
        "  print(x)\n",
        "  sum = sum+x\n",
        "print(\"Sum of 10 numbers less 5 than is: \", sum )\n"
      ]
    },
    {
      "cell_type": "markdown",
      "source": [
        "##Problem Statement 2"
      ],
      "metadata": {
        "id": "KB3R4yt_ibNN"
      }
    },
    {
      "cell_type": "code",
      "source": [
        "#Create a Python program that will produce accept five numbers and determine the sum of\n",
        "#first and last number among the five numbers entered using WHILE LOOP\n",
        "\n",
        "w=1\n",
        "while w<=5:\n",
        "  print(w)\n",
        "  w+=1\n",
        "t = 12345\n",
        "res=t%10\n",
        "while t>9:\n",
        "  t=t//10\n",
        "res+=t\n",
        "print(\"The sum of 1st and last digit is\",res)"
      ],
      "metadata": {
        "colab": {
          "base_uri": "https://localhost:8080/"
        },
        "id": "C6roDzQ9lRIc",
        "outputId": "f335d2b5-960b-4cda-8f60-427b803afeff"
      },
      "execution_count": 26,
      "outputs": [
        {
          "output_type": "stream",
          "name": "stdout",
          "text": [
            "1\n",
            "2\n",
            "3\n",
            "4\n",
            "5\n",
            "The sum of 1st and last digit is 6\n"
          ]
        }
      ]
    },
    {
      "cell_type": "markdown",
      "source": [
        "##Problem Statement 3"
      ],
      "metadata": {
        "id": "qcNFk6OIicLb"
      }
    },
    {
      "cell_type": "code",
      "source": [
        "#Create a Python program to calculate student grades. It accepts a numerical grade as input\n",
        "#and it will display the character grade as output based on the given scale: (Use Nested-IF-Else\n",
        "#statement)\n",
        "\n",
        "grade=int(input(\"Enter your grade:\"))\n",
        "if grade>=90:\n",
        "  print(\"Character Grade: A\")\n",
        "elif 80<=grade<90:\n",
        "  print(\"Character Grade: B\")\n",
        "elif 70<=grade<80:\n",
        "  print(\"Character Grade: C\")\n",
        "elif 60<=grade<70:\n",
        "  print(\"Character Grade: D\")\n",
        "else:\n",
        "  print(\"Character Grade: E\")"
      ],
      "metadata": {
        "id": "wKTv35jwidAv",
        "colab": {
          "base_uri": "https://localhost:8080/"
        },
        "outputId": "a960e167-e97d-4af7-cc25-8dce8f439646"
      },
      "execution_count": 19,
      "outputs": [
        {
          "output_type": "stream",
          "name": "stdout",
          "text": [
            "Enter your grade:60\n",
            "Character Grade: D\n"
          ]
        }
      ]
    }
  ]
}