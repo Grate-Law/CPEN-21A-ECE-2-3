{
  "nbformat": 4,
  "nbformat_minor": 0,
  "metadata": {
    "colab": {
      "name": "Final Exam.ipynb",
      "provenance": [],
      "collapsed_sections": [],
      "authorship_tag": "ABX9TyNDox36eD8vUz1HMBr726Rp",
      "include_colab_link": true
    },
    "kernelspec": {
      "name": "python3",
      "display_name": "Python 3"
    },
    "language_info": {
      "name": "python"
    }
  },
  "cells": [
    {
      "cell_type": "markdown",
      "metadata": {
        "id": "view-in-github",
        "colab_type": "text"
      },
      "source": [
        "<a href=\"https://colab.research.google.com/github/Grate-Law/CPEN-21A-ECE-2-3/blob/main/Final_Exam.ipynb\" target=\"_parent\"><img src=\"https://colab.research.google.com/assets/colab-badge.svg\" alt=\"Open In Colab\"/></a>"
      ]
    },
    {
      "cell_type": "markdown",
      "source": [
        "##Problem Statement 1"
      ],
      "metadata": {
        "id": "4WthDoIRiOU_"
      }
    },
    {
      "cell_type": "code",
      "execution_count": null,
      "metadata": {
        "colab": {
          "base_uri": "https://localhost:8080/"
        },
        "id": "aBCqGUANiIrN",
        "outputId": "24da4175-c5fa-4a75-c382-3ddfe42405ae"
      },
      "outputs": [
        {
          "output_type": "stream",
          "name": "stdout",
          "text": [
            "-5\n",
            "-4\n",
            "-3\n",
            "-2\n",
            "-1\n",
            "0\n",
            "1\n",
            "2\n",
            "3\n",
            "4\n",
            "Sum of 10 numbers less 5 than is:  -5\n"
          ]
        }
      ],
      "source": [
        "#Create a Python program that will produce an output of sum of 10 numbers less than 5 using FOR LOOP statement.\n",
        "sum = 0\n",
        "num=[-5,-4,-3,-2,-1,0,1,2,3,4]\n",
        "for x in num:\n",
        "  print(x)\n",
        "  sum = sum+x\n",
        "print(\"Sum of 10 numbers less 5 than is: \", sum )\n"
      ]
    },
    {
      "cell_type": "markdown",
      "source": [
        "##Problem Statement 2"
      ],
      "metadata": {
        "id": "KB3R4yt_ibNN"
      }
    },
    {
      "cell_type": "code",
      "source": [
        "#Create a Python program that will produce accept five numbers and determine the sum of\n",
        "#first and last number among the five numbers entered using WHILE LOOP\n",
        "\n",
        "w=int(input(\"Input a desired number: \"))\n",
        "y=w+35\n",
        "g=w+28\n",
        "h=w\n",
        "while w<y:\n",
        " print(w)\n",
        " w+=7\n",
        "\n",
        "print(\"The sum of first and last number is \", g+h)\n"
      ],
      "metadata": {
        "colab": {
          "base_uri": "https://localhost:8080/"
        },
        "id": "tovPcs2o4aVv",
        "outputId": "96738311-260e-4ff6-a89e-a13e32373671"
      },
      "execution_count": 57,
      "outputs": [
        {
          "output_type": "stream",
          "name": "stdout",
          "text": [
            "Input a desired number: 100\n",
            "100\n",
            "107\n",
            "114\n",
            "121\n",
            "128\n",
            "The sum of first and last number is  228\n"
          ]
        }
      ]
    },
    {
      "cell_type": "markdown",
      "source": [
        "##Problem Statement 3"
      ],
      "metadata": {
        "id": "qcNFk6OIicLb"
      }
    },
    {
      "cell_type": "code",
      "source": [
        "#Create a Python program to calculate student grades. It accepts a numerical grade as input\n",
        "#and it will display the character grade as output based on the given scale: (Use Nested-IF-Else\n",
        "#statement)\n",
        "\n",
        "grade=int(input(\"Enter your grade:\"))\n",
        "if grade>=90:\n",
        "  print(\"Character Grade: A\")\n",
        "elif 80<=grade<90:\n",
        "  print(\"Character Grade: B\")\n",
        "elif 70<=grade<80:\n",
        "  print(\"Character Grade: C\")\n",
        "elif 60<=grade<70:\n",
        "  print(\"Character Grade: D\")\n",
        "else:\n",
        "  print(\"Character Grade: E\")"
      ],
      "metadata": {
        "id": "wKTv35jwidAv",
        "colab": {
          "base_uri": "https://localhost:8080/"
        },
        "outputId": "a960e167-e97d-4af7-cc25-8dce8f439646"
      },
      "execution_count": null,
      "outputs": [
        {
          "output_type": "stream",
          "name": "stdout",
          "text": [
            "Enter your grade:60\n",
            "Character Grade: D\n"
          ]
        }
      ]
    }
  ]
}