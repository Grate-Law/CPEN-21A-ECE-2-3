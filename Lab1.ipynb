{
  "nbformat": 4,
  "nbformat_minor": 0,
  "metadata": {
    "colab": {
      "name": "Welcome To Colaboratory",
      "provenance": [],
      "collapsed_sections": [],
      "toc_visible": true,
      "include_colab_link": true
    },
    "kernelspec": {
      "display_name": "Python 3",
      "name": "python3"
    }
  },
  "cells": [
    {
      "cell_type": "markdown",
      "metadata": {
        "id": "view-in-github",
        "colab_type": "text"
      },
      "source": [
        "<a href=\"https://colab.research.google.com/github/Grate-Law/CPEN-21A-ECE-2-3/blob/main/Lab1.ipynb\" target=\"_parent\"><img src=\"https://colab.research.google.com/assets/colab-badge.svg\" alt=\"Open In Colab\"/></a>"
      ]
    },
    {
      "cell_type": "markdown",
      "metadata": {
        "id": "mICQYOEDlXw6"
      },
      "source": [
        "# Laboratory 1\n"
      ]
    },
    {
      "cell_type": "code",
      "metadata": {
        "id": "7mr22mb1lbgg",
        "outputId": "88b9a8b7-0dcf-45c5-b73e-403b1d1ba60d",
        "colab": {
          "base_uri": "https://localhost:8080/"
        }
      },
      "source": [
        "print (\"Welcome to Python Programming\")"
      ],
      "execution_count": 19,
      "outputs": [
        {
          "output_type": "stream",
          "name": "stdout",
          "text": [
            "Welcome to Python Programming\n"
          ]
        }
      ]
    },
    {
      "cell_type": "code",
      "metadata": {
        "id": "7zYWLkOslk3Y",
        "outputId": "75c189ad-081a-4131-d641-bc09d98351aa",
        "colab": {
          "base_uri": "https://localhost:8080/"
        }
      },
      "source": [
        "N=\"Lawrence C. Grate\"\n",
        "Ad=\"Kaong, Silang, Cavite\"\n",
        "Ag=\"21\"\n",
        "print(\"Hello, I am \"+N)\n",
        "print(\"I'm from \"+Ad)\n",
        "print (\"I am \"+Ag+\" yrs old\") "
      ],
      "execution_count": 35,
      "outputs": [
        {
          "output_type": "stream",
          "name": "stdout",
          "text": [
            "Hello, I am Lawrence C. Grate\n",
            "I'm from Kaong, Silang, Cavite\n",
            "I am 21 yrs old\n"
          ]
        }
      ]
    }
  ]
}