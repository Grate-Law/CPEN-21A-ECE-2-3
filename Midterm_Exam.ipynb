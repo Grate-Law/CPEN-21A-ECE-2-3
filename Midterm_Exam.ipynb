{
  "nbformat": 4,
  "nbformat_minor": 0,
  "metadata": {
    "colab": {
      "name": "Midterm Exam.ipynb",
      "provenance": [],
      "collapsed_sections": [],
      "authorship_tag": "ABX9TyOeo++/cgVK/hm6D+6vRRfB",
      "include_colab_link": true
    },
    "kernelspec": {
      "name": "python3",
      "display_name": "Python 3"
    },
    "language_info": {
      "name": "python"
    }
  },
  "cells": [
    {
      "cell_type": "markdown",
      "metadata": {
        "id": "view-in-github",
        "colab_type": "text"
      },
      "source": [
        "<a href=\"https://colab.research.google.com/github/Grate-Law/CPEN-21A-ECE-2-3/blob/main/Midterm_Exam.ipynb\" target=\"_parent\"><img src=\"https://colab.research.google.com/assets/colab-badge.svg\" alt=\"Open In Colab\"/></a>"
      ]
    },
    {
      "cell_type": "markdown",
      "metadata": {
        "id": "E2z9dpCfzzUF"
      },
      "source": [
        "###Midterm Exam\n",
        "###11-25-2021\n",
        "\n",
        "\n",
        "\n"
      ]
    },
    {
      "cell_type": "markdown",
      "metadata": {
        "id": "tPWnqXfHtek3"
      },
      "source": [
        "###Problem Statement 1"
      ]
    },
    {
      "cell_type": "code",
      "metadata": {
        "colab": {
          "base_uri": "https://localhost:8080/"
        },
        "id": "IpHK_E3-tkyj",
        "outputId": "97276128-523b-4039-8f7e-542d708f04e2"
      },
      "source": [
        "a=\"Lawrence Camia Grate\"\n",
        "b=202013422\n",
        "c=21\n",
        "d=\"October 20, 2000\"\n",
        "e=\"285 Karsadahan Silangan Kaong Silang Cavite\"\n",
        "f=\"BS Electronics  and Communication Engineering\"\n",
        "g=1.44\n",
        "\n",
        "print(\"a.\",a)\n",
        "print(\"b.\",b)\n",
        "print(\"c.\",c)\n",
        "print(\"d.\",d)\n",
        "print(\"e.\",e)\n",
        "print(\"f.\",f)\n",
        "print(\"g.\",g)"
      ],
      "execution_count": 30,
      "outputs": [
        {
          "output_type": "stream",
          "name": "stdout",
          "text": [
            "a. Lawrence Camia Grate\n",
            "b. 202013422\n",
            "c. 21\n",
            "d. October 20, 2000\n",
            "e. 285 Karsadahan Silangan Kaong Silang Cavite\n",
            "f. BS Electronics  and Communication Engineering\n",
            "g. 1.44\n"
          ]
        }
      ]
    },
    {
      "cell_type": "markdown",
      "metadata": {
        "id": "ISFBheTFul19"
      },
      "source": [
        "###Problem Statement 2"
      ]
    },
    {
      "cell_type": "code",
      "metadata": {
        "id": "CbTmDV3kupcu"
      },
      "source": [
        "#Given data\n",
        "n=4\n",
        "answ=\"Y\""
      ],
      "execution_count": 27,
      "outputs": []
    },
    {
      "cell_type": "code",
      "metadata": {
        "colab": {
          "base_uri": "https://localhost:8080/"
        },
        "id": "Ml42_OqkvApa",
        "outputId": "f67f53e5-5795-4543-9c77-f6ac02422747"
      },
      "source": [
        "print(\"a.\",(2<n)and(n<6))\n",
        "print(\"b.\",(2<n)or(n==6))\n",
        "print(\"c.\",not(2<n)or(n==6))\n",
        "print(\"d.\",not(n<6))\n",
        "print(\"e.\",(answ==\"Y\")or(answ==\"y\"))\n",
        "print(\"f.\",(answ==\"Y\")and(answ==\"y\"))\n",
        "print(\"g.\",not(answ==\"y\"))\n",
        "print(\"h.\",((2<n)and(n==5+1))or(answ==\"No\"))\n",
        "print(\"i.\",((n==2)and(n==7))or(answ==\"Y\"))\n",
        "print(\"j.\",(n==2)and((n==7)or(answ==\"Y\")))"
      ],
      "execution_count": 28,
      "outputs": [
        {
          "output_type": "stream",
          "name": "stdout",
          "text": [
            "a. True\n",
            "b. True\n",
            "c. False\n",
            "d. False\n",
            "e. True\n",
            "f. False\n",
            "g. True\n",
            "h. False\n",
            "i. True\n",
            "j. False\n"
          ]
        }
      ]
    },
    {
      "cell_type": "markdown",
      "metadata": {
        "id": "39oUCdoGxSa0"
      },
      "source": [
        "###Problem Statement 3"
      ]
    },
    {
      "cell_type": "code",
      "metadata": {
        "id": "tz1bN_XdxWoC"
      },
      "source": [
        "#Given data\n",
        "x=2\n",
        "y=-3\n",
        "w=7\n",
        "z=-10"
      ],
      "execution_count": 25,
      "outputs": []
    },
    {
      "cell_type": "code",
      "metadata": {
        "colab": {
          "base_uri": "https://localhost:8080/"
        },
        "id": "WeWJ_YTcxgtF",
        "outputId": "2d253d45-f23e-4919-cced-4eb887a8377b"
      },
      "source": [
        "print(\"a.\",x/y)\n",
        "print(\"b.\",w/y/x)\n",
        "print(\"c.\",z/y%x)\n",
        "print(\"d.\",x%-y*w)\n",
        "print(\"e.\",x%y)\n",
        "print(\"f.\",z%w-y/x*5+5)\n",
        "print(\"g.\",9-x%(2+y))\n",
        "print(\"h.\",z//w)\n",
        "print(\"i.\",(2+y)**2)\n",
        "print(\"j.\",w/x*2)"
      ],
      "execution_count": 41,
      "outputs": [
        {
          "output_type": "stream",
          "name": "stdout",
          "text": [
            "a. -0.6666666666666666\n",
            "b. -1.1666666666666667\n",
            "c. 1.3333333333333335\n",
            "d. 14\n",
            "e. -1\n",
            "f. 16.5\n",
            "g. 9\n",
            "h. -2\n",
            "i. 1\n",
            "j. 7.0\n"
          ]
        }
      ]
    }
  ]
}