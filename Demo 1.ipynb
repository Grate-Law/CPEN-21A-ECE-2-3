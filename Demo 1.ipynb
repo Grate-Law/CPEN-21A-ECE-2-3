{
  "nbformat": 4,
  "nbformat_minor": 0,
  "metadata": {
    "colab": {
      "name": "Welcome To Colaboratory",
      "provenance": [],
      "collapsed_sections": [],
      "include_colab_link": true
    },
    "kernelspec": {
      "display_name": "Python 3",
      "name": "python3"
    }
  },
  "cells": [
    {
      "cell_type": "markdown",
      "metadata": {
        "id": "view-in-github",
        "colab_type": "text"
      },
      "source": [
        "<a href=\"https://colab.research.google.com/github/Grate-Law/CPEN-21A-ECE-2-3/blob/main/Demo%201.ipynb\" target=\"_parent\"><img src=\"https://colab.research.google.com/assets/colab-badge.svg\" alt=\"Open In Colab\"/></a>"
      ]
    },
    {
      "cell_type": "markdown",
      "metadata": {
        "id": "0VpQJ-8yxS2h"
      },
      "source": [
        "# Python Indention"
      ]
    },
    {
      "cell_type": "code",
      "metadata": {
        "id": "M4yWr0PVxThF",
        "outputId": "0d0e0802-e9d9-4baf-a943-196f879f4976",
        "colab": {
          "base_uri": "https://localhost:8080/"
        }
      },
      "source": [
        "if 5>2:\n",
        " print (\"Five is greater than two!\") #This code shows a String of words "
      ],
      "execution_count": 16,
      "outputs": [
        {
          "output_type": "stream",
          "name": "stdout",
          "text": [
            "Five is greater than two!\n"
          ]
        }
      ]
    },
    {
      "cell_type": "markdown",
      "metadata": {
        "id": "nqVJzY9jy2rd"
      },
      "source": [
        "# Python Variable"
      ]
    },
    {
      "cell_type": "code",
      "metadata": {
        "id": "nAr69lhXzCDZ",
        "outputId": "eceaaf20-ce0a-44dc-8fd1-47da3e663a3e",
        "colab": {
          "base_uri": "https://localhost:8080/"
        }
      },
      "source": [
        "a, b, c=1, 2, 3\n",
        "d = \"Lawrence\"  #This is a type of String\n",
        "s = 'Love'  #This is a type of String\n",
        "A = 'You!'\n",
        "print(a)\n",
        "print(b)\n",
        "print(c)\n",
        "print(d)\n",
        "print(s)\n",
        "print(A)"
      ],
      "execution_count": 28,
      "outputs": [
        {
          "output_type": "stream",
          "name": "stdout",
          "text": [
            "1\n",
            "2\n",
            "3\n",
            "Lawrence\n",
            "Love\n",
            "You!\n"
          ]
        }
      ]
    },
    {
      "cell_type": "markdown",
      "metadata": {
        "id": "MDcq0O1H0VzA"
      },
      "source": [
        "# Casting"
      ]
    },
    {
      "cell_type": "code",
      "metadata": {
        "id": "EKHrml9T0aJB",
        "outputId": "28ffefb4-70c2-428e-8e61-0e823041f47b",
        "colab": {
          "base_uri": "https://localhost:8080/"
        }
      },
      "source": [
        " print(int(4))"
      ],
      "execution_count": 30,
      "outputs": [
        {
          "output_type": "stream",
          "name": "stdout",
          "text": [
            "4\n"
          ]
        }
      ]
    },
    {
      "cell_type": "code",
      "metadata": {
        "id": "tz_uQBYY0jJg",
        "outputId": "672e0156-45cf-4ebb-9304-1e5f8309779f",
        "colab": {
          "base_uri": "https://localhost:8080/"
        }
      },
      "source": [
        "f=143.324\n",
        "print(type(f))"
      ],
      "execution_count": 32,
      "outputs": [
        {
          "output_type": "stream",
          "name": "stdout",
          "text": [
            "<class 'float'>\n"
          ]
        }
      ]
    },
    {
      "cell_type": "code",
      "metadata": {
        "id": "Q7ZEXtUp0zFB",
        "outputId": "600433c7-cb12-46ca-b172-3932a1071cc4",
        "colab": {
          "base_uri": "https://localhost:8080/"
        }
      },
      "source": [
        "x, y, z= \"i\", \"love\", \"you\"\n",
        "print(x)\n",
        "print(y)\n",
        "print(z)"
      ],
      "execution_count": 33,
      "outputs": [
        {
          "output_type": "stream",
          "name": "stdout",
          "text": [
            "i\n",
            "love\n",
            "you\n"
          ]
        }
      ]
    },
    {
      "cell_type": "code",
      "metadata": {
        "id": "66OapoGS1Agd",
        "outputId": "c4188f97-a1f8-4ff2-fc55-ad84f2b60190",
        "colab": {
          "base_uri": "https://localhost:8080/"
        }
      },
      "source": [
        "x=y=z=\"Mamamo\" #Multiple variable with single value\n",
        "print(x)\n",
        "print(y)\n",
        "print(z)"
      ],
      "execution_count": 34,
      "outputs": [
        {
          "output_type": "stream",
          "name": "stdout",
          "text": [
            "Mamamo\n",
            "Mamamo\n",
            "Mamamo\n"
          ]
        }
      ]
    },
    {
      "cell_type": "code",
      "metadata": {
        "id": "vlLSkPoL1Pym",
        "outputId": "bdaa5d32-880f-440c-9c1c-6fc999663120",
        "colab": {
          "base_uri": "https://localhost:8080/"
        }
      },
      "source": [
        "x=\"maangas\"\n",
        "print(\"ako ay \" + x)"
      ],
      "execution_count": 38,
      "outputs": [
        {
          "output_type": "stream",
          "name": "stdout",
          "text": [
            "ako ay maangas\n"
          ]
        }
      ]
    },
    {
      "cell_type": "markdown",
      "metadata": {
        "id": "aH2jJpNI1nbT"
      },
      "source": [
        "# Operations in Python"
      ]
    },
    {
      "cell_type": "code",
      "metadata": {
        "id": "KYZEB7471tvE",
        "outputId": "edf36094-605d-4c7e-b6d0-38d4b4d9d97e",
        "colab": {
          "base_uri": "https://localhost:8080/"
        }
      },
      "source": [
        "k=14\n",
        "l=12\n",
        "print(k+l)"
      ],
      "execution_count": 59,
      "outputs": [
        {
          "output_type": "stream",
          "name": "stdout",
          "text": [
            "26\n"
          ]
        }
      ]
    },
    {
      "cell_type": "code",
      "metadata": {
        "id": "QV_EInyr1zc8",
        "outputId": "87472317-326a-4d04-db0a-a619330c4041",
        "colab": {
          "base_uri": "https://localhost:8080/"
        }
      },
      "source": [
        "k+=l  # The same as k+l\n",
        "print(k)"
      ],
      "execution_count": 60,
      "outputs": [
        {
          "output_type": "stream",
          "name": "stdout",
          "text": [
            "26\n"
          ]
        }
      ]
    },
    {
      "cell_type": "code",
      "metadata": {
        "id": "DEpfBa3V2CYQ",
        "outputId": "5b518dd7-e203-4e0c-f7e2-8ad6ab734e44",
        "colab": {
          "base_uri": "https://localhost:8080/"
        }
      },
      "source": [
        "k>l and l==l"
      ],
      "execution_count": 61,
      "outputs": [
        {
          "output_type": "execute_result",
          "data": {
            "text/plain": [
              "True"
            ]
          },
          "metadata": {},
          "execution_count": 61
        }
      ]
    },
    {
      "cell_type": "code",
      "metadata": {
        "id": "bMPJXLeq2Pag",
        "outputId": "63ad6065-3486-45e9-829f-e30a17241a8e",
        "colab": {
          "base_uri": "https://localhost:8080/"
        }
      },
      "source": [
        "k<l and k==k"
      ],
      "execution_count": 62,
      "outputs": [
        {
          "output_type": "execute_result",
          "data": {
            "text/plain": [
              "False"
            ]
          },
          "metadata": {},
          "execution_count": 62
        }
      ]
    },
    {
      "cell_type": "code",
      "metadata": {
        "id": "ISlgvcUx2VmG",
        "outputId": "c62153f0-4fb2-44bd-c03b-3a28fe859c41",
        "colab": {
          "base_uri": "https://localhost:8080/"
        }
      },
      "source": [
        "not (k>l or k==k)"
      ],
      "execution_count": 63,
      "outputs": [
        {
          "output_type": "execute_result",
          "data": {
            "text/plain": [
              "False"
            ]
          },
          "metadata": {},
          "execution_count": 63
        }
      ]
    },
    {
      "cell_type": "code",
      "metadata": {
        "id": "X2YdzrK-2gYA",
        "outputId": "51a588e5-75e4-458d-b3ac-796af06de047",
        "colab": {
          "base_uri": "https://localhost:8080/"
        }
      },
      "source": [
        "\n",
        "k is l"
      ],
      "execution_count": 64,
      "outputs": [
        {
          "output_type": "execute_result",
          "data": {
            "text/plain": [
              "False"
            ]
          },
          "metadata": {},
          "execution_count": 64
        }
      ]
    },
    {
      "cell_type": "code",
      "metadata": {
        "id": "UaSRmhI12k1K",
        "outputId": "aa18fbac-56fb-44d5-a270-55a0f826e03b",
        "colab": {
          "base_uri": "https://localhost:8080/"
        }
      },
      "source": [
        "k%=2\n",
        "k"
      ],
      "execution_count": 66,
      "outputs": [
        {
          "output_type": "execute_result",
          "data": {
            "text/plain": [
              "0"
            ]
          },
          "metadata": {},
          "execution_count": 66
        }
      ]
    }
  ]
}