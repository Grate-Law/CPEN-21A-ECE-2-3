{
  "nbformat": 4,
  "nbformat_minor": 0,
  "metadata": {
    "colab": {
      "name": "Expressions and Operations.ipynb",
      "provenance": [],
      "collapsed_sections": [],
      "authorship_tag": "ABX9TyO9a65jv52wtKafcm3tDUv/",
      "include_colab_link": true
    },
    "kernelspec": {
      "name": "python3",
      "display_name": "Python 3"
    },
    "language_info": {
      "name": "python"
    }
  },
  "cells": [
    {
      "cell_type": "markdown",
      "metadata": {
        "id": "view-in-github",
        "colab_type": "text"
      },
      "source": [
        "<a href=\"https://colab.research.google.com/github/Grate-Law/CPEN-21A-ECE-2-3/blob/main/Expressions_and_Operations.ipynb\" target=\"_parent\"><img src=\"https://colab.research.google.com/assets/colab-badge.svg\" alt=\"Open In Colab\"/></a>"
      ]
    },
    {
      "cell_type": "markdown",
      "metadata": {
        "id": "1DVjH1w_sZXE"
      },
      "source": [
        "##Boolean Operators"
      ]
    },
    {
      "cell_type": "code",
      "metadata": {
        "id": "pj23bx8OtFKI",
        "colab": {
          "base_uri": "https://localhost:8080/"
        },
        "outputId": "c31f51be-2248-4b18-d129-530935381334"
      },
      "source": [
        "a=1\n",
        "b=2\n",
        "\n",
        "print(a<b)\n",
        "print(b<a)\n",
        "print(a!=b)\n",
        "print(a==a)\n"
      ],
      "execution_count": 3,
      "outputs": [
        {
          "output_type": "stream",
          "name": "stdout",
          "text": [
            "True\n",
            "False\n",
            "True\n",
            "True\n"
          ]
        }
      ]
    },
    {
      "cell_type": "markdown",
      "metadata": {
        "id": "Aac7E6M-5z2k"
      },
      "source": [
        "###Boolean Functions"
      ]
    },
    {
      "cell_type": "code",
      "metadata": {
        "id": "esFSLdeo53HN",
        "colab": {
          "base_uri": "https://localhost:8080/"
        },
        "outputId": "cf4db03e-3ab8-4ebd-fa62-a879f9bd1e65"
      },
      "source": [
        "print(bool(15))\n",
        "print(bool(True))\n",
        "print(bool(1))\n",
        "print(bool(False))\n",
        "print(bool(0))\n",
        "print(bool(None))"
      ],
      "execution_count": null,
      "outputs": [
        {
          "output_type": "stream",
          "name": "stdout",
          "text": [
            "True\n",
            "True\n",
            "True\n",
            "False\n",
            "False\n",
            "False\n"
          ]
        }
      ]
    },
    {
      "cell_type": "markdown",
      "metadata": {
        "id": "6MVyqfQW6nYe"
      },
      "source": [
        "###Functions Return a Boolean"
      ]
    },
    {
      "cell_type": "code",
      "metadata": {
        "id": "dtjqEqvq6saN",
        "colab": {
          "base_uri": "https://localhost:8080/"
        },
        "outputId": "4271cdd8-feaa-480e-ca4c-be5a496ad6fd"
      },
      "source": [
        "def myFunction():return False\n",
        "if myFunction():\n",
        "  print(\"True\")\n",
        "else:\n",
        " print(\"False\")"
      ],
      "execution_count": null,
      "outputs": [
        {
          "output_type": "stream",
          "name": "stdout",
          "text": [
            "False\n"
          ]
        }
      ]
    },
    {
      "cell_type": "markdown",
      "metadata": {
        "id": "HY3fbsaz7K06"
      },
      "source": [
        "###Relational Operator"
      ]
    },
    {
      "cell_type": "code",
      "metadata": {
        "id": "1GQ3lFo07PNs",
        "colab": {
          "base_uri": "https://localhost:8080/"
        },
        "outputId": "f37e27c9-4fda-45e2-819f-a5f6ba29ab52"
      },
      "source": [
        "print(a>b)\n",
        "print(a<b)\n",
        "print(a==a)\n",
        "print(a>=b)\n",
        "print(a!=b)\n",
        "print(a<=b)"
      ],
      "execution_count": 4,
      "outputs": [
        {
          "output_type": "stream",
          "name": "stdout",
          "text": [
            "False\n",
            "True\n",
            "True\n",
            "False\n",
            "True\n",
            "True\n"
          ]
        }
      ]
    },
    {
      "cell_type": "markdown",
      "metadata": {
        "id": "F0HD5Rpe7QsY"
      },
      "source": [
        "###Arithmetic Operator"
      ]
    },
    {
      "cell_type": "code",
      "metadata": {
        "id": "w8fCfwyy7TQ3",
        "colab": {
          "base_uri": "https://localhost:8080/"
        },
        "outputId": "b98afe11-4f35-47ee-df6e-5b2a4c23da33"
      },
      "source": [
        "print(10+5)\n",
        "print(10-5)\n",
        "print(10*5)\n",
        "print(10/5)\n",
        "print(10%5) #modulo division"
      ],
      "execution_count": null,
      "outputs": [
        {
          "output_type": "stream",
          "name": "stdout",
          "text": [
            "15\n",
            "5\n",
            "50\n",
            "2.0\n",
            "0\n"
          ]
        }
      ]
    },
    {
      "cell_type": "markdown",
      "metadata": {
        "id": "gJZAPEb7vUBR"
      },
      "source": [
        "##Bitwise Operators\n"
      ]
    },
    {
      "cell_type": "code",
      "metadata": {
        "id": "BYv7vqFYvXK-",
        "colab": {
          "base_uri": "https://localhost:8080/"
        },
        "outputId": "b31d0ea1-d90a-4af6-e484-01fc2d5a584e"
      },
      "source": [
        "a=60 #0011 1100\n",
        "b=13 #0000 1101\n",
        "\n",
        "print(a & b)\n",
        "print(a | b)\n",
        "print(a^b)\n",
        "\n",
        "print(a<<2)\n",
        "print(a>>1)"
      ],
      "execution_count": null,
      "outputs": [
        {
          "output_type": "stream",
          "name": "stdout",
          "text": [
            "12\n",
            "61\n",
            "49\n",
            "240\n",
            "30\n"
          ]
        }
      ]
    },
    {
      "cell_type": "markdown",
      "metadata": {
        "id": "Oi4MpReUzqpZ"
      },
      "source": [
        "##Assignment Operator"
      ]
    },
    {
      "cell_type": "code",
      "metadata": {
        "id": "yasgiaTizwxG",
        "colab": {
          "base_uri": "https://localhost:8080/"
        },
        "outputId": "2a8e9fa0-1e39-4bbb-a4ab-cf69a4f593e8"
      },
      "source": [
        "a+=3 #same as x=x+3, x=60+3, x=63\n",
        "\n",
        "print(a)"
      ],
      "execution_count": null,
      "outputs": [
        {
          "output_type": "stream",
          "name": "stdout",
          "text": [
            "63\n"
          ]
        }
      ]
    },
    {
      "cell_type": "markdown",
      "metadata": {
        "id": "6LvhJ12_0o1z"
      },
      "source": [
        "###Logical Operator"
      ]
    },
    {
      "cell_type": "code",
      "metadata": {
        "id": "Z304vC090rvX",
        "colab": {
          "base_uri": "https://localhost:8080/"
        },
        "outputId": "cfb2b405-c6bd-4f24-999e-5af735e102b8"
      },
      "source": [
        "print(a<b and a>b)\n",
        "print(a==a or b==b)\n",
        "print(not(a==a or b==b))\n"
      ],
      "execution_count": null,
      "outputs": [
        {
          "output_type": "stream",
          "name": "stdout",
          "text": [
            "False\n",
            "True\n",
            "False\n"
          ]
        }
      ]
    },
    {
      "cell_type": "markdown",
      "metadata": {
        "id": "C3XBfcbp2IdG"
      },
      "source": [
        "###Identify Operators"
      ]
    },
    {
      "cell_type": "code",
      "metadata": {
        "id": "puQggLxn2NeF",
        "colab": {
          "base_uri": "https://localhost:8080/"
        },
        "outputId": "610d2caf-b01d-47ca-f050-e966b27c7fd7"
      },
      "source": [
        "print(a is b)\n",
        "print(a is not b)"
      ],
      "execution_count": null,
      "outputs": [
        {
          "output_type": "stream",
          "name": "stdout",
          "text": [
            "False\n",
            "True\n"
          ]
        }
      ]
    }
  ]
}