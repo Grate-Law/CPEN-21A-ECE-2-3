{
  "nbformat": 4,
  "nbformat_minor": 0,
  "metadata": {
    "colab": {
      "name": "colab-github-demo.ipynb",
      "provenance": [],
      "collapsed_sections": [],
      "authorship_tag": "ABX9TyO16hs0qYyL1caKam+IiaHu",
      "include_colab_link": true
    },
    "kernelspec": {
      "name": "python3",
      "display_name": "Python 3"
    },
    "language_info": {
      "name": "python"
    }
  },
  "cells": [
    {
      "cell_type": "markdown",
      "metadata": {
        "id": "view-in-github",
        "colab_type": "text"
      },
      "source": [
        "<a href=\"https://colab.research.google.com/github/Grate-Law/CPEN-21A-ECE-2-3/blob/main/colab_github_demo.ipynb\" target=\"_parent\"><img src=\"https://colab.research.google.com/assets/colab-badge.svg\" alt=\"Open In Colab\"/></a>"
      ]
    },
    {
      "cell_type": "markdown",
      "source": [
        "###For loop"
      ],
      "metadata": {
        "id": "IT7UWObpi1cI"
      }
    },
    {
      "cell_type": "code",
      "source": [
        "week=[\"Sunday\", \"Monday\", \"Tuesday\", \"Wednesday\", \"Thursday\", \"Friday\", \"Saturday\"]\n",
        "for x in week: \n",
        "  print(x)"
      ],
      "metadata": {
        "colab": {
          "base_uri": "https://localhost:8080/"
        },
        "id": "VedJhHU3i4Aj",
        "outputId": "906a3a9c-e46a-4966-8ee6-9066ba2107e9"
      },
      "execution_count": 26,
      "outputs": [
        {
          "output_type": "stream",
          "name": "stdout",
          "text": [
            "Sunday\n",
            "Monday\n",
            "Tuesday\n",
            "Wednesday\n",
            "Thursday\n",
            "Friday\n",
            "Saturday\n"
          ]
        }
      ]
    },
    {
      "cell_type": "markdown",
      "source": [
        "##The break statement"
      ],
      "metadata": {
        "id": "3-yYHv8_i6kY"
      }
    },
    {
      "cell_type": "code",
      "source": [
        "for x in week: \n",
        "  print(x)\n",
        "  if x==\"Thursday\":\n",
        "    break"
      ],
      "metadata": {
        "colab": {
          "base_uri": "https://localhost:8080/"
        },
        "id": "tkQ2eMAci8ko",
        "outputId": "3319a6d5-09d7-45b7-ee50-ef0d13d8eb5a"
      },
      "execution_count": 25,
      "outputs": [
        {
          "output_type": "stream",
          "name": "stdout",
          "text": [
            "Sunday\n",
            "Monday\n",
            "Tuesday\n",
            "Wednesday\n",
            "Thursday\n"
          ]
        }
      ]
    },
    {
      "cell_type": "code",
      "source": [
        "for x in week: \n",
        "  if x==\"Thursday\": \n",
        "    break \n",
        "  print(x)"
      ],
      "metadata": {
        "colab": {
          "base_uri": "https://localhost:8080/"
        },
        "id": "nPEqfxLFjE0c",
        "outputId": "f7b4b574-e8de-4b2a-8267-bfc433ccb41b"
      },
      "execution_count": 24,
      "outputs": [
        {
          "output_type": "stream",
          "name": "stdout",
          "text": [
            "Sunday\n",
            "Monday\n",
            "Tuesday\n",
            "Wednesday\n"
          ]
        }
      ]
    },
    {
      "cell_type": "markdown",
      "source": [
        "##Looping through a string"
      ],
      "metadata": {
        "id": "5KB1crrNjGpf"
      }
    },
    {
      "cell_type": "code",
      "source": [
        "for x in \"week\":\n",
        "  print (x)\n"
      ],
      "metadata": {
        "colab": {
          "base_uri": "https://localhost:8080/"
        },
        "id": "zTInskDjjJS1",
        "outputId": "6d43f1fe-4bc6-41a5-dc7d-cb3e53eec0ae"
      },
      "execution_count": 23,
      "outputs": [
        {
          "output_type": "stream",
          "name": "stdout",
          "text": [
            "w\n",
            "e\n",
            "e\n",
            "k\n"
          ]
        }
      ]
    },
    {
      "cell_type": "code",
      "source": [
        "for x in \"programming logic and design\":\n",
        "  print (x)"
      ],
      "metadata": {
        "colab": {
          "base_uri": "https://localhost:8080/"
        },
        "id": "25i-9O1JjLZl",
        "outputId": "8316eaa1-e0da-49d6-cf69-ea889927a698"
      },
      "execution_count": 22,
      "outputs": [
        {
          "output_type": "stream",
          "name": "stdout",
          "text": [
            "p\n",
            "r\n",
            "o\n",
            "g\n",
            "r\n",
            "a\n",
            "m\n",
            "m\n",
            "i\n",
            "n\n",
            "g\n",
            " \n",
            "l\n",
            "o\n",
            "g\n",
            "i\n",
            "c\n",
            " \n",
            "a\n",
            "n\n",
            "d\n",
            " \n",
            "d\n",
            "e\n",
            "s\n",
            "i\n",
            "g\n",
            "n\n"
          ]
        }
      ]
    },
    {
      "cell_type": "markdown",
      "source": [
        "##The range function"
      ],
      "metadata": {
        "id": "GNBtcIjGjPC_"
      }
    },
    {
      "cell_type": "code",
      "source": [
        "for x in range (6):\n",
        "  print(x)\n",
        "  "
      ],
      "metadata": {
        "colab": {
          "base_uri": "https://localhost:8080/"
        },
        "id": "8FFMTPoujQuX",
        "outputId": "25793468-d7ce-4570-c91a-61da0c7cc5fa"
      },
      "execution_count": 21,
      "outputs": [
        {
          "output_type": "stream",
          "name": "stdout",
          "text": [
            "0\n",
            "1\n",
            "2\n",
            "3\n",
            "4\n",
            "5\n"
          ]
        }
      ]
    },
    {
      "cell_type": "code",
      "source": [
        "for x in range (2,6):\n",
        "    print(x)"
      ],
      "metadata": {
        "id": "12NCGERhjTAW",
        "colab": {
          "base_uri": "https://localhost:8080/"
        },
        "outputId": "0fbf70dd-275d-46d9-8445-f361771728a0"
      },
      "execution_count": 20,
      "outputs": [
        {
          "output_type": "stream",
          "name": "stdout",
          "text": [
            "2\n",
            "3\n",
            "4\n",
            "5\n"
          ]
        }
      ]
    },
    {
      "cell_type": "markdown",
      "source": [
        "##Nested Loops"
      ],
      "metadata": {
        "id": "HYDRAU51jUz8"
      }
    },
    {
      "cell_type": "code",
      "source": [
        "adjective=[\"red\",\"big\",\"tasty\"]\n",
        "fruits=[\"apple\",\"banana\",\"cherry\"]\n",
        "for x in adjective:\n",
        "  for y in fruits: \n",
        "    print(x,y)"
      ],
      "metadata": {
        "id": "ZVsgJ5a5jWgS",
        "colab": {
          "base_uri": "https://localhost:8080/"
        },
        "outputId": "6968fb6e-a518-4412-cbd3-ffacd871e397"
      },
      "execution_count": 19,
      "outputs": [
        {
          "output_type": "stream",
          "name": "stdout",
          "text": [
            "red apple\n",
            "red banana\n",
            "red cherry\n",
            "big apple\n",
            "big banana\n",
            "big cherry\n",
            "tasty apple\n",
            "tasty banana\n",
            "tasty cherry\n"
          ]
        }
      ]
    },
    {
      "cell_type": "markdown",
      "source": [
        "##While Loop"
      ],
      "metadata": {
        "id": "IxhKeklAjY8q"
      }
    },
    {
      "cell_type": "code",
      "source": [
        "i=1\n",
        "while i<6:\n",
        "  print(i)\n",
        "  i+=1 #Assignment Operator #The same as i=i+1\n",
        "  "
      ],
      "metadata": {
        "colab": {
          "base_uri": "https://localhost:8080/"
        },
        "id": "F0o6egsWjaVM",
        "outputId": "500ca808-9671-4e90-83dd-5ed9c0b594b3"
      },
      "execution_count": 17,
      "outputs": [
        {
          "output_type": "stream",
          "name": "stdout",
          "text": [
            "1\n",
            "2\n",
            "3\n",
            "4\n",
            "5\n"
          ]
        }
      ]
    },
    {
      "cell_type": "code",
      "source": [
        "i=1\n",
        "while i<=6:\n",
        "  print(i)\n",
        "  i+=1 #Assignment Operator #The same as i=i+1"
      ],
      "metadata": {
        "id": "4bGuWNhujcKr",
        "colab": {
          "base_uri": "https://localhost:8080/"
        },
        "outputId": "270887ee-673d-43cd-9e15-74e18efec6e0"
      },
      "execution_count": 18,
      "outputs": [
        {
          "output_type": "stream",
          "name": "stdout",
          "text": [
            "1\n",
            "2\n",
            "3\n",
            "4\n",
            "5\n",
            "6\n"
          ]
        }
      ]
    },
    {
      "cell_type": "markdown",
      "source": [
        "##Break statement under while"
      ],
      "metadata": {
        "id": "VLqtPHV5jdws"
      }
    },
    {
      "cell_type": "code",
      "source": [
        "i=1\n",
        "while i<6:\n",
        "  print(i)\n",
        "  if i==3:\n",
        "    break\n",
        "  else:\n",
        "    i+=1"
      ],
      "metadata": {
        "id": "87L0ZiGejfAA",
        "colab": {
          "base_uri": "https://localhost:8080/"
        },
        "outputId": "7f45f8be-3c4f-4dfb-943f-e94ea4082fce"
      },
      "execution_count": 16,
      "outputs": [
        {
          "output_type": "stream",
          "name": "stdout",
          "text": [
            "1\n",
            "2\n",
            "3\n"
          ]
        }
      ]
    },
    {
      "cell_type": "markdown",
      "source": [
        "##The continue statement"
      ],
      "metadata": {
        "id": "JUAB-Cv-jiEV"
      }
    },
    {
      "cell_type": "code",
      "source": [
        "i=0\n",
        "while i<6:\n",
        "  i+=1\n",
        "  if i==3:\n",
        "    continue\n",
        "  print(i)"
      ],
      "metadata": {
        "id": "ssSdsuiUjndI",
        "colab": {
          "base_uri": "https://localhost:8080/"
        },
        "outputId": "9c58e6ac-ca99-4f6d-a202-3de581c6f9ac"
      },
      "execution_count": 15,
      "outputs": [
        {
          "output_type": "stream",
          "name": "stdout",
          "text": [
            "1\n",
            "2\n",
            "4\n",
            "5\n",
            "6\n"
          ]
        }
      ]
    },
    {
      "cell_type": "markdown",
      "source": [
        "##Else Statement"
      ],
      "metadata": {
        "id": "lfuhkWRfjou4"
      }
    },
    {
      "cell_type": "code",
      "source": [
        "i=1\n",
        "while i<6:\n",
        "    print(i)\n",
        "    i+=1\n",
        "else:\n",
        "  print(\"i is no longer less than 6\")"
      ],
      "metadata": {
        "id": "XL6QxtdBjqCN",
        "colab": {
          "base_uri": "https://localhost:8080/"
        },
        "outputId": "bce82a19-4375-4d65-a36a-04557165f9dc"
      },
      "execution_count": 14,
      "outputs": [
        {
          "output_type": "stream",
          "name": "stdout",
          "text": [
            "1\n",
            "2\n",
            "3\n",
            "4\n",
            "5\n",
            "i is no longer less than 6\n"
          ]
        }
      ]
    },
    {
      "cell_type": "markdown",
      "source": [
        "##Application 1"
      ],
      "metadata": {
        "id": "ksTCpG6Bjrle"
      }
    },
    {
      "cell_type": "code",
      "source": [
        "value=[\"Value\"]\n",
        "number=[\"0\",\"1\",\"2\",\"3\",\"4\",\"5\",\"6\",\"7\",\"8\",\"9\",\"10\"]\n",
        "\n",
        "for x in value:\n",
        "  for y in number: \n",
        "    print(x,y)"
      ],
      "metadata": {
        "id": "rlz_4vsSjs-8",
        "colab": {
          "base_uri": "https://localhost:8080/"
        },
        "outputId": "a8845d1d-e067-4356-a23f-15bc3a25aad2"
      },
      "execution_count": 11,
      "outputs": [
        {
          "output_type": "stream",
          "name": "stdout",
          "text": [
            "Value 0\n",
            "Value 1\n",
            "Value 2\n",
            "Value 3\n",
            "Value 4\n",
            "Value 5\n",
            "Value 6\n",
            "Value 7\n",
            "Value 8\n",
            "Value 9\n",
            "Value 10\n"
          ]
        }
      ]
    },
    {
      "cell_type": "markdown",
      "source": [
        "##Using while loop on application 1"
      ],
      "metadata": {
        "id": "MJvvSHs3juhU"
      }
    },
    {
      "cell_type": "code",
      "source": [
        "value=[\"Value\"]\n",
        "number=[\"0\",\"1\",\"2\",\"3\",\"4\",\"5\",\"6\",\"7\",\"8\",\"9\",\"10\"]\n",
        "\n",
        "i=0\n",
        "while i<=10:\n",
        "    print(\"value\", i)\n",
        "    i+=1 #Assignment operator for addition"
      ],
      "metadata": {
        "id": "4EMOcyiTjv54",
        "colab": {
          "base_uri": "https://localhost:8080/"
        },
        "outputId": "d0f4f029-696f-4b61-c34d-b6c17b11a06d"
      },
      "execution_count": 12,
      "outputs": [
        {
          "output_type": "stream",
          "name": "stdout",
          "text": [
            "value 0\n",
            "value 1\n",
            "value 2\n",
            "value 3\n",
            "value 4\n",
            "value 5\n",
            "value 6\n",
            "value 7\n",
            "value 8\n",
            "value 9\n",
            "value 10\n"
          ]
        }
      ]
    },
    {
      "cell_type": "markdown",
      "source": [
        "##Application 2\n"
      ],
      "metadata": {
        "id": "VK7iyLU4jyi9"
      }
    },
    {
      "cell_type": "code",
      "source": [
        "for x in range (3,20): \n",
        "  print(x)"
      ],
      "metadata": {
        "id": "BiZrBIpGj0WG",
        "colab": {
          "base_uri": "https://localhost:8080/"
        },
        "outputId": "b5c7655f-8c6b-42fa-e4e3-cf5da8e74796"
      },
      "execution_count": 13,
      "outputs": [
        {
          "output_type": "stream",
          "name": "stdout",
          "text": [
            "3\n",
            "4\n",
            "5\n",
            "6\n",
            "7\n",
            "8\n",
            "9\n",
            "10\n",
            "11\n",
            "12\n",
            "13\n",
            "14\n",
            "15\n",
            "16\n",
            "17\n",
            "18\n",
            "19\n"
          ]
        }
      ]
    }
  ]
}